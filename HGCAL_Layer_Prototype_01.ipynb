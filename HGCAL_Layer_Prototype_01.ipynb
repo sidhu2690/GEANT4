{
  "nbformat": 4,
  "nbformat_minor": 0,
  "metadata": {
    "colab": {
      "provenance": [],
      "authorship_tag": "ABX9TyNOAyYNFJawQGeouXa7Rjs/",
      "include_colab_link": true
    },
    "kernelspec": {
      "name": "python3",
      "display_name": "Python 3"
    },
    "language_info": {
      "name": "python"
    }
  },
  "cells": [
    {
      "cell_type": "markdown",
      "metadata": {
        "id": "view-in-github",
        "colab_type": "text"
      },
      "source": [
        "<a href=\"https://colab.research.google.com/github/sidhu2690/GEANT4/blob/main/HGCAL_Layer_Prototype_01.ipynb\" target=\"_parent\"><img src=\"https://colab.research.google.com/assets/colab-badge.svg\" alt=\"Open In Colab\"/></a>"
      ]
    },
    {
      "cell_type": "code",
      "source": [
        "import numpy as np\n",
        "import pandas as pd\n",
        "from scipy.stats import moyal\n",
        "from scipy.optimize import curve_fit\n",
        "\n",
        "def landau_pdf(x, mpv, sigma, amplitude):\n",
        "    loc = mpv - sigma * np.log(2)\n",
        "    scale = sigma\n",
        "    return amplitude * moyal.pdf(x, loc=loc, scale=scale)\n",
        "\n",
        "def fit_landau_and_cut(edep_values):\n",
        "    counts, bins = np.histogram(edep_values, bins=50)\n",
        "    if np.max(counts) == 0:\n",
        "        return None, None\n",
        "\n",
        "    mpv_guess = np.percentile(edep_values, 75)\n",
        "    sigma_guess = np.std(edep_values) * 0.5\n",
        "    amplitude_guess = np.max(counts)\n",
        "    bin_centers = (bins[:-1] + bins[1:]) / 2\n",
        "\n",
        "    try:\n",
        "        popt, _ = curve_fit(landau_pdf, bin_centers, counts,\n",
        "                            p0=[mpv_guess, sigma_guess, amplitude_guess],\n",
        "                            maxfev=10000, bounds=([0, 0, 0], [np.inf, np.inf, np.inf]))\n",
        "        mpv = popt[0]\n",
        "        cut_value = 0.75 * mpv\n",
        "        return mpv, cut_value\n",
        "    except:\n",
        "        return None, None\n",
        "\n",
        "def process_cellwise(input_file, output_file='processed_hits.csv'):\n",
        "    df = pd.read_csv(input_file, sep=r'\\s+')\n",
        "    df_filtered = df[(df['Layer'] > 0) & (df['Edep_MeV'] > 0)].copy()\n",
        "\n",
        "    cellSize = 50\n",
        "\n",
        "    df_filtered['i'] = np.round(df_filtered['X_mm'] / cellSize)\n",
        "    df_filtered['j'] = np.round(df_filtered['Y_mm'] / cellSize)\n",
        "    df_filtered['xi'] = df_filtered['i'] * cellSize\n",
        "    df_filtered['yi'] = df_filtered['j'] * cellSize\n",
        "    df_filtered['zi'] = df_filtered['Z_mm']\n",
        "\n",
        "    processed_hits = []\n",
        "\n",
        "    grouped = df_filtered.groupby(['Layer', 'i', 'j'])\n",
        "\n",
        "    for (layer, i, j), group in grouped:\n",
        "        edep_values = group['Edep_MeV'].values\n",
        "\n",
        "        mpv, cut_value = fit_landau_and_cut(edep_values)\n",
        "\n",
        "        if mpv is None:\n",
        "            continue\n",
        "\n",
        "        hits_above_cut = group[group['Edep_MeV'] >= cut_value]\n",
        "\n",
        "        for _, row in hits_above_cut.iterrows():\n",
        "            xi, yi, zi = row['xi'], row['yi'], row['zi']\n",
        "            edep = row['Edep_MeV']\n",
        "\n",
        "            ri = np.sqrt(xi**2 + yi**2 + zi**2)\n",
        "            phi_rad = np.arctan2(yi, xi)\n",
        "            phi_deg = np.degrees(phi_rad)\n",
        "            theta_rad = np.arccos(zi / ri) if ri > 0 else 0\n",
        "            theta_deg = np.degrees(theta_rad)\n",
        "            eta = -np.log(np.tan(theta_rad / 2.0)) if 0 < theta_rad < np.pi else 0.0\n",
        "\n",
        "            processed_hits.append({\n",
        "                'layer': int(layer), 'i': int(i), 'j': int(j),\n",
        "                'xi': round(xi, 3), 'yi': round(yi, 3), 'zi': round(zi, 3),\n",
        "                'theta': round(theta_deg, 2), 'phi': round(phi_deg, 2),\n",
        "                'eta': round(eta, 2), 'edep': round(edep, 6)\n",
        "            })\n",
        "\n",
        "    df_output = pd.DataFrame(processed_hits)\n",
        "    df_output.to_csv(output_file, index=False)\n",
        "\n",
        "    print(f\"Number of Entries: {len(df_output)}\")\n",
        "    print(f\"\\n{df_output.head(10)}\")\n",
        "\n",
        "    return df_output\n",
        "\n",
        "df_output = process_cellwise(\"/content/particle_tracking.txt\")"
      ],
      "metadata": {
        "colab": {
          "base_uri": "https://localhost:8080/"
        },
        "id": "o-_gqY8WbrJC",
        "outputId": "aa6b0ba3-1fb0-4cde-c000-eef4c7705fef"
      },
      "execution_count": 84,
      "outputs": [
        {
          "output_type": "stream",
          "name": "stdout",
          "text": [
            "Number of Entries: 587\n",
            "\n",
            "   layer   i   j      xi      yi      zi  theta     phi   eta      edep\n",
            "0      1 -21  12 -1050.0   600.0  3221.4  20.58  150.26  1.71  0.086918\n",
            "1      1  -8   6  -400.0   300.0  3221.4   8.82  143.13  2.56  0.207414\n",
            "2      1  -6   7  -300.0   350.0  3221.4   8.14  130.60  2.64  0.247754\n",
            "3      1  -3  26  -150.0  1300.0  3221.4  22.11   96.58  1.63  0.085882\n",
            "4      1   0  25     0.0  1250.0  3221.4  21.21   90.00  1.68  0.094520\n",
            "5      1   1  24    50.0  1200.0  3221.4  20.45   87.61  1.71  0.132449\n",
            "6      1   3   7   150.0   350.0  3221.4   6.74   66.80  2.83  0.127865\n",
            "7      1   4 -17   200.0  -850.0  3221.4  15.17  -76.76  2.02  0.088121\n",
            "8      1   4  16   200.0   800.0  3221.4  14.36   75.96  2.07  0.090283\n",
            "9      1   5  -5   250.0  -250.0  3221.4   6.26  -45.00  2.91  0.098834\n"
          ]
        }
      ]
    },
    {
      "cell_type": "code",
      "source": [],
      "metadata": {
        "id": "dXZxpp5peYQz"
      },
      "execution_count": null,
      "outputs": []
    }
  ]
}